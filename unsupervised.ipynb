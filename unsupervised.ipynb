{
 "cells": [
  {
   "cell_type": "code",
   "execution_count": 1,
   "metadata": {},
   "outputs": [
    {
     "name": "stdout",
     "output_type": "stream",
     "text": [
      "[pyKeOps]: Warning, no cuda detected. Switching to cpu only.\n"
     ]
    }
   ],
   "source": [
    "import numpy as np\n",
    "import datetime\n",
    "import umap\n",
    "import matplotlib.pyplot as plt\n",
    "from scipy.sparse import coo_matrix\n",
    "from umap.my_utils import compute_low_dim_psims\n",
    "import os\n",
    "import pickle\n",
    "import time\n",
    "from matplotlib.colors import ListedColormap\n",
    "from sklearn.datasets import make_moons, make_circles, make_classification\n",
    "from matplotlib.ticker import NullFormatter"
   ]
  },
  {
   "cell_type": "code",
   "execution_count": 2,
   "metadata": {},
   "outputs": [
    {
     "name": "stdout",
     "output_type": "stream",
     "text": [
      "Logging to ./outputs/2021-11-08_23:42:27\n"
     ]
    }
   ],
   "source": [
    "dt = datetime.datetime.fromtimestamp(time.time())\n",
    "logdir = os.path.join('./outputs/' ,dt.strftime('%Y-%m-%d_%H:%M:%S'))\n",
    "\n",
    "print(f'Logging to {logdir}')\n",
    "if not os.path.exists(logdir):\n",
    "    os.makedirs(logdir)"
   ]
  },
  {
   "cell_type": "markdown",
   "metadata": {},
   "source": [
    "# Construct Datasets"
   ]
  },
  {
   "cell_type": "code",
   "execution_count": 3,
   "metadata": {},
   "outputs": [],
   "source": [
    "def construct_datasets(n_samples):\n",
    "    X, y = make_classification(\n",
    "        n_samples=n_samples, n_features=2, n_redundant=0, n_informative=2, random_state=1, n_clusters_per_class=1\n",
    "    )\n",
    "    rng = np.random.RandomState(2)\n",
    "    X += 2 * rng.uniform(size=X.shape)\n",
    "    linearly_separable = (X, y)\n",
    "\n",
    "    return [\n",
    "        make_moons(n_samples=n_samples, noise=0.3, random_state=0),\n",
    "        make_circles(n_samples=n_samples, noise=0.2, factor=0.5, random_state=1),\n",
    "        linearly_separable,\n",
    "    ]\n",
    "\n",
    "datasets = construct_datasets(100)\n",
    "names = ['moons', 'circles', 'linearly seperable']"
   ]
  },
  {
   "cell_type": "code",
   "execution_count": 14,
   "metadata": {},
   "outputs": [],
   "source": [
    "def plot_umap_hyperparam_sweep(ds, name, min_dists, n_neighbors, umap_seed, verbose=False):\n",
    "    fig = plt.figure(figsize=(27, 9))\n",
    "    k = 1\n",
    "    X, y = ds\n",
    "    ax = plt.subplot(len(n_neighbors), len(min_dists) + 1,  k)\n",
    "    # just plot the dataset first\n",
    "    cm = plt.cm.RdBu\n",
    "    cm_bright = ListedColormap([\"#FF0000\", \"#0000FF\"])\n",
    "    ax.set_title(\"input data\")\n",
    "    ax.scatter(x=X[:, 0], y=X[:, 1], c=y, cmap=cm_bright, edgecolors=\"k\")\n",
    "    k += 1\n",
    "    for j, n in enumerate(n_neighbors):\n",
    "        for i, min_dist in enumerate(min_dists):\n",
    "            if k % (len(min_dists) + 1) == 1: # don't plot below input data subplot\n",
    "                k += 1\n",
    "            ax = plt.subplot(len(n_neighbors), len(min_dists) + 1, k)\n",
    "\n",
    "            umapper = umap.UMAP(random_state=umap_seed, min_dist=min_dist, n_neighbors=n, verbose=verbose, n_epochs=10000)\n",
    "            umap_proj = umapper.fit_transform(X)\n",
    "\n",
    "            ax.scatter(umap_proj[:, 0], umap_proj[:, 1], c=y, cmap=cm_bright, edgecolors=\"k\")\n",
    "            ax.set_title(f' n_neighbors={n}, min_dist={min_dist}' )\n",
    "            ax.xaxis.set_major_formatter(NullFormatter())\n",
    "            ax.yaxis.set_major_formatter(NullFormatter())\n",
    "            k+=1\n",
    "        \n",
    "    fig.suptitle(f'rand_seed={umap_seed}')\n",
    "    fig.tight_layout()\n",
    "\n",
    "    fig.savefig(os.path.join(logdir, f'umap_hyperparams_{name}_{len(n_neighbors)}n_{len(min_dists)}_md'))\n",
    "    plt.show()\n",
    "     "
   ]
  },
  {
   "cell_type": "code",
   "execution_count": null,
   "metadata": {},
   "outputs": [],
   "source": [
    "for name, ds in zip(names, datasets):\n",
    "    plot_umap_hyperparam_sweep(ds, name, np.arange(0.01, 0.5, 0.01), np.arange(5, 30, 5), 42)\n",
    "#     plot_umap_hyperparam_sweep(ds, name, [0.1], [2], 42)\n",
    "\n",
    "    break"
   ]
  },
  {
   "cell_type": "code",
   "execution_count": null,
   "metadata": {},
   "outputs": [],
   "source": []
  },
  {
   "cell_type": "code",
   "execution_count": null,
   "metadata": {},
   "outputs": [],
   "source": []
  }
 ],
 "metadata": {
  "kernelspec": {
   "display_name": "Python (umaps_true_loss)",
   "language": "python",
   "name": "umaps_true_loss"
  },
  "language_info": {
   "codemirror_mode": {
    "name": "ipython",
    "version": 3
   },
   "file_extension": ".py",
   "mimetype": "text/x-python",
   "name": "python",
   "nbconvert_exporter": "python",
   "pygments_lexer": "ipython3",
   "version": "3.8.5"
  }
 },
 "nbformat": 4,
 "nbformat_minor": 4
}
